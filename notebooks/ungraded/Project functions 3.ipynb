{
 "cells": [
  {
   "cell_type": "code",
   "execution_count": null,
   "id": "7dead8ab-3981-4e7e-ad81-dc2e05764f90",
   "metadata": {},
   "outputs": [],
   "source": [
    "def load_and_process(dataset_path):\n",
    "    df = pd.read_csv(\"../data/raw/Medical_Cost.csv\").drop([\"bmi\", \"smoker\", \"region\"], axis = \"columns\").loc[lambda x: (x[\"age\"] > 30) & (x[\"age\"] < 50) & (x['children'] > 0) & (x['sex'] == 'female')].sort_values('children', ascending = True)\n",
    "    return df"
   ]
  }
 ],
 "metadata": {
  "kernelspec": {
   "display_name": "Python 3 (ipykernel)",
   "language": "python",
   "name": "python3"
  }
 },
 "nbformat": 4,
 "nbformat_minor": 5
}
