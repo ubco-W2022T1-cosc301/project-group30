{
 "cells": [
  {
   "cell_type": "markdown",
   "id": "43e31598-7254-4b9d-8e71-adddfb92fed3",
   "metadata": {},
   "source": [
    "# Task 4"
   ]
  },
  {
   "cell_type": "markdown",
   "id": "efcfebe9-4049-4192-9bf3-f834288b3994",
   "metadata": {},
   "source": [
    "## Analysis and Conclusion (Terry)\n",
    "\n",
    "My research question, again, was looking at how the number of children could possibly influence medical costs for female ranging from age 30 to 50. The core assumption is that because according to most disorder trends, women are more likely to develop some of the mental disorders, partially due to exposure to to more life stress, such as caring of children. I hypothesize that female with more children would experience more stress, therefore, more prone to develop mental disorders. To combat disorders, they would have to spend more medical costs because of potential therapies and medications.\n",
    "\n",
    "An arrangement of the dataframe to fit the need to answer the research question was done, in addition, a number of graphs were made in order to better understand if there is a trend that will support the hypothesis, spefically a positive relationship between number of children and charges for female. According to the graphs, there is no significant positive relationship between number of children and charges. There is a trend where the more children one has actually contribute to less medical charges. However, because there are insignificant number of female with more than 4 children, a conclution cannot be made about such relationship. \n",
    "\n",
    "In conclusion, the hypothesis was not supported. With increasing number of children does not increase medical charges for female. However, some factors could lead to this conclusion. It could be that women are simply not seeking therapy, since there are a lot of stigmitazing, unwanted attention around mental disorders, or unwillingness to talk about issues. These factors can possibly lead to the relationship observed from the graphs."
   ]
  },
  {
   "cell_type": "markdown",
   "id": "42da3be6-4e6c-4cbc-9fa6-84398b5b96dc",
   "metadata": {},
   "source": [
    "## Analysis and Conclusion (Lydia)\n",
    "\n",
    "According to my research question I was looking for the correlation between the obesity and medical expense. I divide the observation group by age which is female population between age 30 to 50 and over age 50. The purpose of this division is that 30-50 is consider middle age and over is consider as \"older\". In my hypothesis, the older population should be charged more than the middle age as the body start to have lower metabolism and the obesity should cause a larger effect to the body, which create a higher medical expense than the middle age. I also clear another table as compare group, the table only include the female population that having average bmi and over age 30. \n",
    "\n",
    "The result of the research is not surprising. The age 30-50 population has expense around 5000 to 10000 and over 50 population have expense 10000 to 20000. Accroding to the graph 2 in the task 1, I realize that higher the bmi index create a high charge, and the graph 3 shows that female over 30 tend to have a higher bmi index. Therefore, age, bmi , and expense has a possitive correlation, and my hypothesis is suportted by the analyze. \n",
    "\n"
   ]
  },
  {
   "cell_type": "markdown",
   "id": "04c60d80-ebfd-45ec-84da-f22a5d5d6565",
   "metadata": {},
   "source": [
    "## Analysis and Conclusion (JiaJun)\n",
    "\n",
    "My research question is about the difference on expense between male smoker over 50 and under. In my hypothesis the male smoker over 50 should have a higher expense because they tend to have a higher smoke age which will cause larger effect to their body. Smoke has a large influence to the cardio-plumonary function and likely cause cancer. As the elder has a lower metabolism, I expect that those population will cover larger more expense than those lower age people. \n",
    "\n",
    "According to my chart 3, it is clear that people has smoke behaviour has a larger charge than those who don't. After clear the data, the over 50 smoke population has range of $30000 to $45000 on their medical expense and those who under has $20000 to $30000. It is, in fact, a big difference betwene them. \n",
    "\n",
    "In conclussion of this research, smoker has a absolutley higher expense than people that don't, and we can understant that smoke has a big influence to human body. Also age difference is another pointer that change the expense for those smoke population. The older you get smoke has a larger influence to your body and cause higher expense. "
   ]
  },
  {
   "cell_type": "code",
   "execution_count": null,
   "id": "8e29e49a-8b2d-47b6-8e41-a6277c9004fc",
   "metadata": {},
   "outputs": [],
   "source": []
  }
 ],
 "metadata": {
  "kernelspec": {
   "display_name": "Python 3 (ipykernel)",
   "language": "python",
   "name": "python3"
  },
  "language_info": {
   "codemirror_mode": {
    "name": "ipython",
    "version": 3
   },
   "file_extension": ".py",
   "mimetype": "text/x-python",
   "name": "python",
   "nbconvert_exporter": "python",
   "pygments_lexer": "ipython3",
   "version": "3.9.12"
  }
 },
 "nbformat": 4,
 "nbformat_minor": 5
}
