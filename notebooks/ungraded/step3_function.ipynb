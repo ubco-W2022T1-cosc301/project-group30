{
 "cells": [
  {
   "cell_type": "code",
   "execution_count": null,
   "id": "2f83ad49-3f53-4d95-9608-199fe21769f2",
   "metadata": {},
   "outputs": [],
   "source": [
    "import numpy as np\n",
    "import pandas as pd"
   ]
  },
  {
   "cell_type": "code",
   "execution_count": null,
   "id": "dd6cc3ce-76ad-445a-ad00-9dd90c603d4a",
   "metadata": {},
   "outputs": [],
   "source": [
    "def load_and_process(url_or_path_to_csv_file):\n",
    "    over30_df=pd.read_csv(url_or_path_to_csv_file).drop(['children','smoker','region'],axis=\"columns\").loc[lambda x: x['age']>30].loc[lambda x: x['age']<50].loc[lambda x: x['sex']==\"female\"].loc[lambda x: x['bmi']>24.9]\n",
    "    over50_df=pd.read_csv(url_or_path_to_csv_file).drop(['children','smoker','region'],axis=\"columns\").loc[lambda x: x['age']>50].loc[lambda x: x['sex']==\"female\"].loc[lambda x: x['bmi']>24.9]\n",
    "    avg30_df=pd.read_csv(url_or_path_to_csv_file).drop(['children','smoker','region'],axis=\"columns\").loc[lambda x: x['age']>30].loc[lambda x: x['sex']==\"female\"].loc[lambda x: x['bmi']<24.9].loc[lambda x: x['bmi']>18.5]\n",
    "\n",
    "    return over30_df, over50_df, avg30_df"
   ]
  },
  {
   "cell_type": "code",
   "execution_count": null,
   "id": "4e2f27f2-b278-42ec-94a3-a7492ef481a7",
   "metadata": {},
   "outputs": [
    {
     "data": {
      "text/plain": [
       "(      age     sex     bmi      charges\n",
       " 0      48  female  28.880   9249.49520\n",
       " 10     41  female  33.060   7749.15640\n",
       " 19     44  female  27.645   7421.19455\n",
       " 35     43  female  35.720  19144.57652\n",
       " 40     46  female  27.720   8232.63880\n",
       " ...   ...     ...     ...          ...\n",
       " 988    36  female  25.900   5472.44900\n",
       " 1012   33  female  26.695   4571.41305\n",
       " 1020   39  female  26.315   7201.70085\n",
       " 1024   42  female  40.370  43896.37630\n",
       " 1027   42  female  32.870   7050.02130\n",
       " \n",
       " [167 rows x 4 columns],\n",
       "       age     sex     bmi      charges\n",
       " 3      56  female  37.510  12265.50690\n",
       " 5      57  female  38.000  12646.20700\n",
       " 29     64  female  33.800  47928.03000\n",
       " 31     61  female  36.385  48517.56315\n",
       " 33     61  female  31.160  13429.03540\n",
       " ...   ...     ...     ...          ...\n",
       " 958    54  female  27.645  11305.93455\n",
       " 967    55  female  30.500  10704.47000\n",
       " 1031   57  female  25.740  12629.16560\n",
       " 1033   52  female  44.700  11411.68500\n",
       " 1038   61  female  29.070  29141.36030\n",
       " \n",
       " [109 rows x 4 columns],\n",
       "      age     sex     bmi      charges\n",
       " 2     53  female  22.610  24873.38490\n",
       " 51    57  female  23.180  11830.60720\n",
       " 71    61  female  21.090  13415.03810\n",
       " 72    57  female  22.230  12029.28670\n",
       " 77    39  female  24.890  21659.93010\n",
       " 101   51  female  20.600   9264.79700\n",
       " 107   33  female  24.310   4185.09790\n",
       " 108   47  female  23.600   8539.67100\n",
       " 112   44  female  20.235  19594.80965\n",
       " 118   36  female  22.600  18608.26200\n",
       " 187   54  female  21.470  12475.35130\n",
       " 197   31  female  23.600   4931.64700\n",
       " 199   44  female  23.980   8211.10020\n",
       " 261   46  female  19.950   9193.83850\n",
       " 284   32  female  23.650  17626.23951\n",
       " 308   59  female  23.655  25678.77845\n",
       " 314   34  female  19.000   6753.03800\n",
       " 323   49  female  21.300   9182.17000\n",
       " 348   40  female  23.370   8252.28430\n",
       " 362   57  female  23.980  22192.43711\n",
       " 365   64  female  22.990  27037.91410\n",
       " 380   49  female  23.180  10156.78320\n",
       " 389   47  female  24.100  26236.57997\n",
       " 412   50  female  23.540  10107.22060\n",
       " 417   49  female  22.610   9566.99090\n",
       " 454   58  female  22.770  11833.78230\n",
       " 457   39  female  22.800   7985.81500\n",
       " 470   38  female  19.475   6933.24225\n",
       " 539   35  female  23.465   6402.29135\n",
       " 554   53  female  23.750  11729.67950\n",
       " 555   49  female  23.845  24106.91255\n",
       " 564   36  female  19.855   5458.04645\n",
       " 597   43  female  20.045  19798.05455\n",
       " 610   32  female  24.600  17496.30600\n",
       " 628   57  female  20.100  12032.32600\n",
       " 638   39  female  24.225   8965.79575\n",
       " 672   34  female  23.560   4992.37640\n",
       " 696   39  female  23.275   7986.47525\n",
       " 711   48  female  22.800   8269.04400\n",
       " 731   46  female  23.655  21677.28345\n",
       " 736   54  female  23.000  12094.47800\n",
       " 746   43  female  24.700  21880.82000\n",
       " 801   33  female  19.095  16776.30405\n",
       " 831   39  female  23.870   8582.30230\n",
       " 843   52  female  24.860  27117.99378\n",
       " 856   36  female  22.135   7228.21565\n",
       " 877   52  female  24.130  23887.66270\n",
       " 892   41  female  21.755  13725.47184\n",
       " 895   31  female  21.755   4134.08245\n",
       " 933   54  female  24.605  12479.70895\n",
       " 937   63  female  21.660  14449.85440\n",
       " 960   52  female  23.180  10197.77220\n",
       " 961   32  female  20.520   4544.23480\n",
       " 986   47  female  24.320   8534.67180\n",
       " 991   38  female  19.950   7133.90250)"
      ]
     },
     "execution_count": null,
     "metadata": {},
     "output_type": "execute_result"
    }
   ],
   "source": [
    "load_and_process(\"../data/raw/Medical_Cost.csv\")"
   ]
  },
  {
   "cell_type": "code",
   "execution_count": null,
   "id": "bc912b16-ff76-45e8-b6ce-5d1a69683353",
   "metadata": {},
   "outputs": [],
   "source": []
  }
 ],
 "metadata": {
  "kernelspec": {
   "display_name": "Python 3 (ipykernel)",
   "language": "python",
   "name": "python3"
  }
 },
 "nbformat": 4,
 "nbformat_minor": 5
}
