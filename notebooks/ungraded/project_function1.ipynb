{
 "cells": [
  {
   "cell_type": "code",
   "execution_count": 3,
   "id": "d9a761a4-78c0-4a1e-8d9e-e5c684aa44bd",
   "metadata": {},
   "outputs": [],
   "source": [
    "import pandas as pd\n"
   ]
  },
  {
   "cell_type": "code",
   "execution_count": 2,
   "id": "83d9f77d-1c9b-40b3-ad33-1ec0b33e78be",
   "metadata": {},
   "outputs": [],
   "source": [
    "def load_and_process(url_or_path_to_csv_file):\n",
    "    Over50_df = pd.read_csv(url_or_path_to_csv_file).drop([\"bmi\", \"children\", \"region\"], axis = \"columns\").loc[lambda x: x['age']>50].loc[lambda x: x['smoker'] == \"yes\"].loc[lambda x: x['sex'] == \"male\"].sort_values(\"charges\", ascending=False)\n",
    "    Over18_df = pd.read_csv(url_or_path_to_csv_file).drop([\"bmi\", \"children\", \"region\"], axis = \"columns\").loc[lambda x: x['age']<50].loc[lambda x: x['age']>18].loc[lambda x: x['smoker'] == \"yes\"].loc[lambda x: x['sex'] == \"male\"].sort_values(\"charges\", ascending=False)\n",
    "    return Over50_df, Over18_df"
   ]
  },
  {
   "cell_type": "code",
   "execution_count": null,
   "id": "6a45aabe-485b-4c61-a376-69bb4c3b2ba3",
   "metadata": {},
   "outputs": [],
   "source": []
  },
  {
   "cell_type": "code",
   "execution_count": null,
   "id": "f6652b8d-125a-4b01-82b2-11b481095699",
   "metadata": {},
   "outputs": [],
   "source": []
  },
  {
   "cell_type": "code",
   "execution_count": null,
   "id": "54875c08-5e6c-4dc0-a5bc-0ebafb91a3f1",
   "metadata": {},
   "outputs": [],
   "source": []
  }
 ],
 "metadata": {
  "kernelspec": {
   "display_name": "Python 3 (ipykernel)",
   "language": "python",
   "name": "python3"
  },
  "language_info": {
   "codemirror_mode": {
    "name": "ipython",
    "version": 3
   },
   "file_extension": ".py",
   "mimetype": "text/x-python",
   "name": "python",
   "nbconvert_exporter": "python",
   "pygments_lexer": "ipython3",
   "version": "3.9.12"
  }
 },
 "nbformat": 4,
 "nbformat_minor": 5
}
